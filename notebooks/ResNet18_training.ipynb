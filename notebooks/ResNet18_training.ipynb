{
  "nbformat": 4,
  "nbformat_minor": 0,
  "metadata": {
    "colab": {
      "name": "ResNet18_training.ipynb",
      "provenance": [],
      "collapsed_sections": [
        "sU2JoBb8Xp8_"
      ]
    },
    "kernelspec": {
      "name": "python3",
      "display_name": "Python 3"
    },
    "accelerator": "GPU"
  },
  "cells": [
    {
      "cell_type": "code",
      "metadata": {
        "id": "yWTd9LoW7X7l",
        "colab_type": "code",
        "colab": {
          "base_uri": "https://localhost:8080/",
          "height": 122
        },
        "outputId": "fa57ef95-2943-4e7d-8c61-8b8568641b6c"
      },
      "source": [
        "from google.colab import drive\n",
        "drive.mount('/content/drive/')"
      ],
      "execution_count": null,
      "outputs": [
        {
          "output_type": "stream",
          "text": [
            "Go to this URL in a browser: https://accounts.google.com/o/oauth2/auth?client_id=947318989803-6bn6qk8qdgf4n4g3pfee6491hc0brc4i.apps.googleusercontent.com&redirect_uri=urn%3aietf%3awg%3aoauth%3a2.0%3aoob&response_type=code&scope=email%20https%3a%2f%2fwww.googleapis.com%2fauth%2fdocs.test%20https%3a%2f%2fwww.googleapis.com%2fauth%2fdrive%20https%3a%2f%2fwww.googleapis.com%2fauth%2fdrive.photos.readonly%20https%3a%2f%2fwww.googleapis.com%2fauth%2fpeopleapi.readonly\n",
            "\n",
            "Enter your authorization code:\n",
            "··········\n",
            "Mounted at /content/drive/\n"
          ],
          "name": "stdout"
        }
      ]
    },
    {
      "cell_type": "markdown",
      "metadata": {
        "id": "vgzq0zsqXNnX",
        "colab_type": "text"
      },
      "source": [
        "# BASIC SETUP"
      ]
    },
    {
      "cell_type": "code",
      "metadata": {
        "id": "3Vm5mOUSW5MZ",
        "colab_type": "code",
        "colab": {
          "base_uri": "https://localhost:8080/",
          "height": 1000
        },
        "outputId": "7a75024b-0018-4782-b3c7-6154d51d536f"
      },
      "source": [
        "# BASIC SETUP\n",
        "! [ ! -z \"$COLAB_GPU\" ] && pip install torch skorch && pip install neptune-client\n",
        "\n",
        "!cp \"drive/My Drive/dl_project_data/repo/data_loading.py\" .\n",
        "!mkdir ./helper_scripts/\n",
        "!cp \"drive/My Drive/dl_project_data/repo/helper_scripts/visual_helpers.py\" ./helper_scripts\n",
        "!cp \"drive/My Drive/dl_project_data/repo/architecture.py\" .\n",
        "!cp \"drive/My Drive/dl_project_data/repo/model_training.py\" .\n",
        "!mkdir ./train/\n",
        "# Creates RAM-Disk for potential speed-up\n",
        "!sudo mount -t tmpfs -o size=7g tmpfs train\n",
        "!for i in 0; do cp \"drive/My Drive/dl_project_data/train/$i.tar\" ./train/; tar -xf \"./train/$i.tar\" -C ./train/; rm \"./train/$i.tar\"; done;\n",
        "#!for i in 0 1 2 3 4 5 6 7 8 9 10 11; do cp \"drive/My Drive/dl_project_data/train/$i.tar\" ./train/; tar -xf \"./train/$i.tar\" -C ./train/; rm \"./train/$i.tar\"; done;"
      ],
      "execution_count": null,
      "outputs": [
        {
          "output_type": "stream",
          "text": [
            "Requirement already satisfied: torch in /usr/local/lib/python3.6/dist-packages (1.5.1+cu101)\n",
            "Collecting skorch\n",
            "\u001b[?25l  Downloading https://files.pythonhosted.org/packages/42/21/4936b881b33de285faa0b36209afe4f9724a0875b2225abdc63b23d384a3/skorch-0.8.0-py3-none-any.whl (113kB)\n",
            "\u001b[K     |████████████████████████████████| 122kB 2.6MB/s \n",
            "\u001b[?25hRequirement already satisfied: future in /usr/local/lib/python3.6/dist-packages (from torch) (0.16.0)\n",
            "Requirement already satisfied: numpy in /usr/local/lib/python3.6/dist-packages (from torch) (1.18.5)\n",
            "Requirement already satisfied: scikit-learn>=0.19.1 in /usr/local/lib/python3.6/dist-packages (from skorch) (0.22.2.post1)\n",
            "Requirement already satisfied: tqdm>=4.14.0 in /usr/local/lib/python3.6/dist-packages (from skorch) (4.41.1)\n",
            "Requirement already satisfied: scipy>=1.1.0 in /usr/local/lib/python3.6/dist-packages (from skorch) (1.4.1)\n",
            "Requirement already satisfied: tabulate>=0.7.7 in /usr/local/lib/python3.6/dist-packages (from skorch) (0.8.7)\n",
            "Requirement already satisfied: joblib>=0.11 in /usr/local/lib/python3.6/dist-packages (from scikit-learn>=0.19.1->skorch) (0.16.0)\n",
            "Installing collected packages: skorch\n",
            "Successfully installed skorch-0.8.0\n",
            "Collecting neptune-client\n",
            "\u001b[?25l  Downloading https://files.pythonhosted.org/packages/4a/d6/00edcbff22f7ada15ff7b3e3c21b4cbbdd2bdd54aa72424691ad038c7d66/neptune-client-0.4.119.tar.gz (90kB)\n",
            "\u001b[K     |████████████████████████████████| 92kB 2.3MB/s \n",
            "\u001b[?25hCollecting bravado\n",
            "  Downloading https://files.pythonhosted.org/packages/2a/cc/b3c8dadc3f51fa184db10172f031c1c5206b0e67f3207217bbdd326e81a4/bravado-10.6.2-py2.py3-none-any.whl\n",
            "Requirement already satisfied: click>=7.0 in /usr/local/lib/python3.6/dist-packages (from neptune-client) (7.1.2)\n",
            "Collecting future>=0.17.1\n",
            "\u001b[?25l  Downloading https://files.pythonhosted.org/packages/45/0b/38b06fd9b92dc2b68d58b75f900e97884c45bedd2ff83203d933cf5851c9/future-0.18.2.tar.gz (829kB)\n",
            "\u001b[K     |████████████████████████████████| 829kB 8.2MB/s \n",
            "\u001b[?25hCollecting py3nvml\n",
            "\u001b[?25l  Downloading https://files.pythonhosted.org/packages/53/b3/cb30dd8cc1198ae3fdb5a320ca7986d7ca76e23d16415067eafebff8685f/py3nvml-0.2.6-py3-none-any.whl (55kB)\n",
            "\u001b[K     |████████████████████████████████| 61kB 7.1MB/s \n",
            "\u001b[?25hRequirement already satisfied: oauthlib>=2.1.0 in /usr/local/lib/python3.6/dist-packages (from neptune-client) (3.1.0)\n",
            "Requirement already satisfied: pandas in /usr/local/lib/python3.6/dist-packages (from neptune-client) (1.0.5)\n",
            "Requirement already satisfied: Pillow>=1.1.6 in /usr/local/lib/python3.6/dist-packages (from neptune-client) (7.0.0)\n",
            "Collecting PyJWT\n",
            "  Downloading https://files.pythonhosted.org/packages/87/8b/6a9f14b5f781697e51259d81657e6048fd31a113229cf346880bb7545565/PyJWT-1.7.1-py2.py3-none-any.whl\n",
            "Requirement already satisfied: requests>=2.20.0 in /usr/local/lib/python3.6/dist-packages (from neptune-client) (2.23.0)\n",
            "Requirement already satisfied: requests-oauthlib>=1.0.0 in /usr/local/lib/python3.6/dist-packages (from neptune-client) (1.3.0)\n",
            "Requirement already satisfied: six>=1.12.0 in /usr/local/lib/python3.6/dist-packages (from neptune-client) (1.15.0)\n",
            "Collecting websocket-client>=0.35.0\n",
            "\u001b[?25l  Downloading https://files.pythonhosted.org/packages/4c/5f/f61b420143ed1c8dc69f9eaec5ff1ac36109d52c80de49d66e0c36c3dfdf/websocket_client-0.57.0-py2.py3-none-any.whl (200kB)\n",
            "\u001b[K     |████████████████████████████████| 204kB 12.8MB/s \n",
            "\u001b[?25hCollecting GitPython>=2.0.8\n",
            "\u001b[?25l  Downloading https://files.pythonhosted.org/packages/f9/1e/a45320cab182bf1c8656107b3d4c042e659742822fc6bff150d769a984dd/GitPython-3.1.7-py3-none-any.whl (158kB)\n",
            "\u001b[K     |████████████████████████████████| 163kB 13.4MB/s \n",
            "\u001b[?25hRequirement already satisfied: packaging in /usr/local/lib/python3.6/dist-packages (from neptune-client) (20.4)\n",
            "Collecting simplejson\n",
            "\u001b[?25l  Downloading https://files.pythonhosted.org/packages/73/96/1e6b19045375890068d7342cbe280dd64ae73fd90b9735b5efb8d1e044a1/simplejson-3.17.2-cp36-cp36m-manylinux2010_x86_64.whl (127kB)\n",
            "\u001b[K     |████████████████████████████████| 133kB 14.0MB/s \n",
            "\u001b[?25hRequirement already satisfied: pyyaml in /usr/local/lib/python3.6/dist-packages (from bravado->neptune-client) (3.13)\n",
            "Collecting monotonic\n",
            "  Downloading https://files.pythonhosted.org/packages/ac/aa/063eca6a416f397bd99552c534c6d11d57f58f2e94c14780f3bbf818c4cf/monotonic-1.5-py2.py3-none-any.whl\n",
            "Collecting bravado-core>=5.16.1\n",
            "\u001b[?25l  Downloading https://files.pythonhosted.org/packages/76/11/18e9d28a156c33f2d5f15a5e155dc7130250acb0a569255a2b6b307b596d/bravado_core-5.17.0-py2.py3-none-any.whl (67kB)\n",
            "\u001b[K     |████████████████████████████████| 71kB 6.9MB/s \n",
            "\u001b[?25hRequirement already satisfied: typing-extensions in /usr/local/lib/python3.6/dist-packages (from bravado->neptune-client) (3.7.4.2)\n",
            "Collecting msgpack-python\n",
            "\u001b[?25l  Downloading https://files.pythonhosted.org/packages/8a/20/6eca772d1a5830336f84aca1d8198e5a3f4715cd1c7fc36d3cc7f7185091/msgpack-python-0.5.6.tar.gz (138kB)\n",
            "\u001b[K     |████████████████████████████████| 143kB 14.1MB/s \n",
            "\u001b[?25hRequirement already satisfied: python-dateutil in /usr/local/lib/python3.6/dist-packages (from bravado->neptune-client) (2.8.1)\n",
            "Collecting xmltodict\n",
            "  Downloading https://files.pythonhosted.org/packages/28/fd/30d5c1d3ac29ce229f6bdc40bbc20b28f716e8b363140c26eff19122d8a5/xmltodict-0.12.0-py2.py3-none-any.whl\n",
            "Requirement already satisfied: numpy>=1.13.3 in /usr/local/lib/python3.6/dist-packages (from pandas->neptune-client) (1.18.5)\n",
            "Requirement already satisfied: pytz>=2017.2 in /usr/local/lib/python3.6/dist-packages (from pandas->neptune-client) (2018.9)\n",
            "Requirement already satisfied: chardet<4,>=3.0.2 in /usr/local/lib/python3.6/dist-packages (from requests>=2.20.0->neptune-client) (3.0.4)\n",
            "Requirement already satisfied: certifi>=2017.4.17 in /usr/local/lib/python3.6/dist-packages (from requests>=2.20.0->neptune-client) (2020.6.20)\n",
            "Requirement already satisfied: urllib3!=1.25.0,!=1.25.1,<1.26,>=1.21.1 in /usr/local/lib/python3.6/dist-packages (from requests>=2.20.0->neptune-client) (1.24.3)\n",
            "Requirement already satisfied: idna<3,>=2.5 in /usr/local/lib/python3.6/dist-packages (from requests>=2.20.0->neptune-client) (2.10)\n",
            "Collecting gitdb<5,>=4.0.1\n",
            "\u001b[?25l  Downloading https://files.pythonhosted.org/packages/48/11/d1800bca0a3bae820b84b7d813ad1eff15a48a64caea9c823fc8c1b119e8/gitdb-4.0.5-py3-none-any.whl (63kB)\n",
            "\u001b[K     |████████████████████████████████| 71kB 7.9MB/s \n",
            "\u001b[?25hRequirement already satisfied: pyparsing>=2.0.2 in /usr/local/lib/python3.6/dist-packages (from packaging->neptune-client) (2.4.7)\n",
            "Collecting swagger-spec-validator>=2.0.1\n",
            "  Downloading https://files.pythonhosted.org/packages/09/de/e78cefbf5838b434b63a789264b79821cb2267f1498fbed23ef8590133e4/swagger_spec_validator-2.7.3-py2.py3-none-any.whl\n",
            "Collecting jsonref\n",
            "  Downloading https://files.pythonhosted.org/packages/07/92/f8e4ac824b14af77e613984e480fa818397c72d4141fc466decb26752749/jsonref-0.2-py3-none-any.whl\n",
            "Requirement already satisfied: msgpack>=0.5.2 in /usr/local/lib/python3.6/dist-packages (from bravado-core>=5.16.1->bravado->neptune-client) (1.0.0)\n",
            "Requirement already satisfied: jsonschema[format]>=2.5.1 in /usr/local/lib/python3.6/dist-packages (from bravado-core>=5.16.1->bravado->neptune-client) (2.6.0)\n",
            "Collecting smmap<4,>=3.0.1\n",
            "  Downloading https://files.pythonhosted.org/packages/b0/9a/4d409a6234eb940e6a78dfdfc66156e7522262f5f2fecca07dc55915952d/smmap-3.0.4-py2.py3-none-any.whl\n",
            "Collecting rfc3987; extra == \"format\"\n",
            "  Downloading https://files.pythonhosted.org/packages/65/d4/f7407c3d15d5ac779c3dd34fbbc6ea2090f77bd7dd12f207ccf881551208/rfc3987-1.3.8-py2.py3-none-any.whl\n",
            "Collecting webcolors; extra == \"format\"\n",
            "  Downloading https://files.pythonhosted.org/packages/12/05/3350559de9714b202e443a9e6312937341bd5f79f4e4f625744295e7dd17/webcolors-1.11.1-py3-none-any.whl\n",
            "Collecting strict-rfc3339; extra == \"format\"\n",
            "  Downloading https://files.pythonhosted.org/packages/56/e4/879ef1dbd6ddea1c77c0078cd59b503368b0456bcca7d063a870ca2119d3/strict-rfc3339-0.7.tar.gz\n",
            "Building wheels for collected packages: neptune-client, future, msgpack-python, strict-rfc3339\n",
            "  Building wheel for neptune-client (setup.py) ... \u001b[?25l\u001b[?25hdone\n",
            "  Created wheel for neptune-client: filename=neptune_client-0.4.119-py2.py3-none-any.whl size=150019 sha256=91d888468a459285ad323001835c5c2238987fe936de1dc74a7e7bfe8683b175\n",
            "  Stored in directory: /root/.cache/pip/wheels/84/5c/c1/a81e80761b94b4467fd3fda1fd3109463702f6247fc422eb33\n",
            "  Building wheel for future (setup.py) ... \u001b[?25l\u001b[?25hdone\n",
            "  Created wheel for future: filename=future-0.18.2-cp36-none-any.whl size=491057 sha256=ea475764d989f53913858dd6503fbd8f7ed3a109a499bbd7ca27d84fe4fa613f\n",
            "  Stored in directory: /root/.cache/pip/wheels/8b/99/a0/81daf51dcd359a9377b110a8a886b3895921802d2fc1b2397e\n",
            "  Building wheel for msgpack-python (setup.py) ... \u001b[?25l\u001b[?25hdone\n",
            "  Created wheel for msgpack-python: filename=msgpack_python-0.5.6-cp36-cp36m-linux_x86_64.whl size=304237 sha256=abd8b7bdad78b8a321bd5c80ef2160bb753ae40235f5ad5aead2bc478429ea2c\n",
            "  Stored in directory: /root/.cache/pip/wheels/d5/de/86/7fa56fda12511be47ea0808f3502bc879df4e63ab168ec0406\n",
            "  Building wheel for strict-rfc3339 (setup.py) ... \u001b[?25l\u001b[?25hdone\n",
            "  Created wheel for strict-rfc3339: filename=strict_rfc3339-0.7-cp36-none-any.whl size=18120 sha256=9d7f33320e0320db754669b1cf9405c596660bdcd134d799e63587a88b77f3ff\n",
            "  Stored in directory: /root/.cache/pip/wheels/bb/af/c9/b6e9fb5f9b2470e4ed2a7241c9ab3a8cdd3bc8555ae02ca2e6\n",
            "Successfully built neptune-client future msgpack-python strict-rfc3339\n",
            "Installing collected packages: simplejson, monotonic, swagger-spec-validator, jsonref, bravado-core, msgpack-python, bravado, future, xmltodict, py3nvml, PyJWT, websocket-client, smmap, gitdb, GitPython, neptune-client, rfc3987, webcolors, strict-rfc3339\n",
            "  Found existing installation: future 0.16.0\n",
            "    Uninstalling future-0.16.0:\n",
            "      Successfully uninstalled future-0.16.0\n",
            "Successfully installed GitPython-3.1.7 PyJWT-1.7.1 bravado-10.6.2 bravado-core-5.17.0 future-0.18.2 gitdb-4.0.5 jsonref-0.2 monotonic-1.5 msgpack-python-0.5.6 neptune-client-0.4.119 py3nvml-0.2.6 rfc3987-1.3.8 simplejson-3.17.2 smmap-3.0.4 strict-rfc3339-0.7 swagger-spec-validator-2.7.3 webcolors-1.11.1 websocket-client-0.57.0 xmltodict-0.12.0\n"
          ],
          "name": "stdout"
        }
      ]
    },
    {
      "cell_type": "markdown",
      "metadata": {
        "id": "sU2JoBb8Xp8_",
        "colab_type": "text"
      },
      "source": [
        "# IMPORTS\n",
        "**You should not have to change anything here.**"
      ]
    },
    {
      "cell_type": "code",
      "metadata": {
        "id": "l4IMc1b9W9MY",
        "colab_type": "code",
        "colab": {}
      },
      "source": [
        "# IMPORTS\n",
        "from collections import OrderedDict\n",
        "\n",
        "import torch\n",
        "from torch import nn\n",
        "from torchvision import models, transforms\n",
        "\n",
        "import skorch.callbacks as scb\n",
        "from skorch import NeuralNetBinaryClassifier\n",
        "\n",
        "import model_training as md\n",
        "import architecture as arch\n",
        "from data_loading import ToTensor, Normalize, RandomRotation, RandomHorizontalFlip\n",
        "\n",
        "# Skorch uses some depricated scikit code - works just fine, so surpress warnings for clean output\n",
        "import warnings\n",
        "warnings.filterwarnings('ignore')"
      ],
      "execution_count": null,
      "outputs": []
    },
    {
      "cell_type": "markdown",
      "metadata": {
        "id": "rP45wM4JY5z2",
        "colab_type": "text"
      },
      "source": [
        "# CLASSIFIER PARAMETRIZATION\n",
        "\n",
        "Here you can parametrize your model and set loss, optimizer, learning rate, etc. \n",
        "\n",
        "For further information on what can be set and how, please refer to the [skorch documentation](https://skorch.readthedocs.io/en/stable/classifier.html#skorch.classifier.NeuralNetClassifier)."
      ]
    },
    {
      "cell_type": "code",
      "metadata": {
        "id": "ay5mGAaeJil2",
        "colab_type": "code",
        "colab": {}
      },
      "source": [
        "# CLASSIFIER PARAMETRIZATION\n",
        "classifier = NeuralNetBinaryClassifier(\n",
        "    arch.ResNet18,\n",
        "    optimizer = torch.optim.Adam, \n",
        "    max_epochs = 2,\n",
        "    lr = 0.01,\n",
        "    batch_size = 128,\n",
        "    iterator_train__shuffle = True, # Shuffle training data on each epoch\n",
        "    train_split = None,\n",
        "    callbacks = [scb.LRScheduler(policy = 'StepLR', gamma = 0.4, step_size = 2.0)], \n",
        "    device ='cuda')"
      ],
      "execution_count": null,
      "outputs": []
    },
    {
      "cell_type": "markdown",
      "metadata": {
        "id": "m2_5amM3ZX8h",
        "colab_type": "text"
      },
      "source": [
        "# CLASSIFIER TRAINING\n",
        "\n",
        "After you have added the shared folder with the data to your drive as a shortcut, you should not have to change anything here. At least for now.\n",
        "\n",
        "**IF YOU WANT TO TRAIN WITH THE FULL DATASET, JUST REMOVE** *_small* **FROM THE CSV FILE.** "
      ]
    },
    {
      "cell_type": "code",
      "metadata": {
        "id": "Nj8LtNYrXHT3",
        "colab_type": "code",
        "colab": {
          "base_uri": "https://localhost:8080/",
          "height": 272
        },
        "outputId": "f6953af0-83ec-44d9-8397-00cc41229080"
      },
      "source": [
        "# CLASSIFIER TRAINING\n",
        "md.train_model(classifier, \n",
        "            train_labels = \"drive/My Drive/dl_project_data/train/train_split_small.csv\", \n",
        "            test_labels = \"drive/My Drive/dl_project_data/train/test_split_small.csv\", \n",
        "            file_dir = \"train\", \n",
        "            train_transform = transforms.Compose([transforms.ToPILImage(),\n",
        "                                  transforms.Pad(64, padding_mode='reflect'), # 96 + 2*64 = 224\n",
        "                                  transforms.RandomHorizontalFlip(),  # TODO: model expects normalized channel values (substract means)\n",
        "                                  transforms.RandomVerticalFlip(),\n",
        "                                  transforms.RandomRotation(20),\n",
        "                                  transforms.ToTensor()]),\n",
        "            test_transform = transforms.Compose([transforms.ToPILImage(),\n",
        "                                  transforms.Pad(64, padding_mode='reflect'), # 96 + 2*64 = 224\n",
        "                                  transforms.ToTensor()]),\n",
        "            in_memory = False,\n",
        "            output_path = \".\",\n",
        "            #output_path = \"drive/My Drive/dl_project_data/output\",\n",
        "            logger = {\n",
        "                \"api_token\": \"\",\n",
        "                \"project_qualified_name\": \"elangenhan/hcd-experiments\",\n",
        "                \"experiment_name\": \"ResNet18\"\n",
        "            }\n",
        ")"
      ],
      "execution_count": null,
      "outputs": [
        {
          "output_type": "stream",
          "text": [
            "https://ui.neptune.ai/elangenhan/hcd-experiments/e/HCDEX-58\n",
            "Starting Training for <class 'architecture.ResNet18'> \n",
            "          \u001b[1mModel-Params:\u001b[0m\n",
            "              \u001b[1mCriterion:\u001b[0m     <class 'torch.nn.modules.loss.BCEWithLogitsLoss'>\n",
            "              \u001b[1mOptimizer:\u001b[0m     <class 'torch.optim.adam.Adam'>\n",
            "              \u001b[1mLearning Rate:\u001b[0m 0.01\n",
            "              \u001b[1mEpochs:\u001b[0m        2\n",
            "              \u001b[1mBatch size:\u001b[0m    128\n",
            "              \n"
          ],
          "name": "stdout"
        },
        {
          "output_type": "stream",
          "text": [
            ""
          ],
          "name": "stderr"
        },
        {
          "output_type": "stream",
          "text": [
            "  epoch    test_acc    test_f1    test_precision    test_recall    test_roc_auc    train_acc    train_f1    train_loss    train_precision    train_recall    train_roc_auc       dur\n",
            "-------  ----------  ---------  ----------------  -------------  --------------  -----------  ----------  ------------  -----------------  --------------  ---------------  --------\n",
            "      1      \u001b[36m0.7419\u001b[0m     \u001b[32m0.7415\u001b[0m            \u001b[35m0.6282\u001b[0m         \u001b[31m0.9046\u001b[0m          \u001b[94m0.7670\u001b[0m       \u001b[36m0.7814\u001b[0m      \u001b[32m0.7146\u001b[0m        \u001b[35m0.5049\u001b[0m             \u001b[31m0.7481\u001b[0m          \u001b[94m0.6840\u001b[0m           \u001b[36m0.8407\u001b[0m  129.5254\n"
          ],
          "name": "stdout"
        },
        {
          "output_type": "stream",
          "text": [
            "                                                                   "
          ],
          "name": "stderr"
        },
        {
          "output_type": "stream",
          "text": [
            "      2      \u001b[36m0.7957\u001b[0m     0.6948            \u001b[35m0.8934\u001b[0m         0.5685          0.7607       \u001b[36m0.8215\u001b[0m      \u001b[32m0.7652\u001b[0m        \u001b[35m0.4078\u001b[0m             \u001b[31m0.8080\u001b[0m          \u001b[94m0.7266\u001b[0m           \u001b[36m0.8902\u001b[0m  130.6531\n"
          ],
          "name": "stdout"
        },
        {
          "output_type": "stream",
          "text": [
            "\r"
          ],
          "name": "stderr"
        },
        {
          "output_type": "stream",
          "text": [
            "Saving model...\n",
            "Saving completed...\n"
          ],
          "name": "stdout"
        }
      ]
    }
  ]
}